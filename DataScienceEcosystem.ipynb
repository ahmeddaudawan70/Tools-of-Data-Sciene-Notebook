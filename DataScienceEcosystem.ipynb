{
 "cells": [
  {
   "cell_type": "markdown",
   "id": "b2683845",
   "metadata": {},
   "source": [
    "# Data Science Tools and Ecosystem"
   ]
  },
  {
   "cell_type": "markdown",
   "id": "70cb9e67",
   "metadata": {},
   "source": [
    "In this notebook Data Science Tools and Ecosystem are summarised"
   ]
  },
  {
   "cell_type": "markdown",
   "id": "c3cd4e4f",
   "metadata": {},
   "source": [
    "**Objectives:**\n",
    "1. Popular Languages in Data Science\n",
    "2. Popular Libraries used by Data Scientists\n",
    "3. Data Science Tools\n",
    "4. Arithemetic Expressions\n"
   ]
  },
  {
   "cell_type": "markdown",
   "id": "bee506de",
   "metadata": {},
   "source": [
    "Some of the popular languages used in Data Science are:\n",
    "\n",
    "1. Python\n",
    "2. R\n",
    "3. Java\n",
    "4. Scala"
   ]
  },
  {
   "cell_type": "markdown",
   "id": "a98c8fd8",
   "metadata": {},
   "source": [
    "Some of the commonly used libraries used by Data Scientists include:\n",
    "1. NumPy\n",
    "2. Pandas\n",
    "3. Scikit-learn\n",
    "4. Matplotlib\n",
    "5. TensorFlow"
   ]
  },
  {
   "cell_type": "markdown",
   "id": "cd92b6cf",
   "metadata": {},
   "source": [
    "| Data Science Tools         |\n",
    "|----------------------------|\n",
    "| Jupyter Notebook           |\n",
    "| RStudio                    |\n",
    "| Apache Zeppelin            |"
   ]
  },
  {
   "cell_type": "markdown",
   "id": "1342ff7f",
   "metadata": {},
   "source": [
    "### Below are a few examples of evaluating arithmetic expressions in Python"
   ]
  },
  {
   "cell_type": "code",
   "execution_count": 7,
   "id": "391bf23e",
   "metadata": {},
   "outputs": [
    {
     "data": {
      "text/plain": [
       "17"
      ]
     },
     "execution_count": 7,
     "metadata": {},
     "output_type": "execute_result"
    }
   ],
   "source": [
    "#This a simple arithmetic expression to mutiply then add integers\n",
    "(3*4)+5"
   ]
  },
  {
   "cell_type": "code",
   "execution_count": 10,
   "id": "71e7fe1c",
   "metadata": {},
   "outputs": [
    {
     "data": {
      "text/plain": [
       "3.3333333333333335"
      ]
     },
     "execution_count": 10,
     "metadata": {},
     "output_type": "execute_result"
    }
   ],
   "source": [
    "#This will convert 200 minutes to hours by diving by 60\n",
    "200/60"
   ]
  },
  {
   "cell_type": "markdown",
   "id": "257dc77c",
   "metadata": {},
   "source": [
    "## Author\n",
    "Ahmed Daud"
   ]
  },
  {
   "cell_type": "code",
   "execution_count": null,
   "id": "61924dcd",
   "metadata": {},
   "outputs": [],
   "source": []
  }
 ],
 "metadata": {
  "kernelspec": {
   "display_name": "Python 3 (ipykernel)",
   "language": "python",
   "name": "python3"
  },
  "language_info": {
   "codemirror_mode": {
    "name": "ipython",
    "version": 3
   },
   "file_extension": ".py",
   "mimetype": "text/x-python",
   "name": "python",
   "nbconvert_exporter": "python",
   "pygments_lexer": "ipython3",
   "version": "3.9.12"
  }
 },
 "nbformat": 4,
 "nbformat_minor": 5
}
